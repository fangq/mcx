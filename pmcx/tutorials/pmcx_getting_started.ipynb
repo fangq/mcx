{
 "cells": [
  {
   "cell_type": "markdown",
   "metadata": {
    "id": "bWGJE5zOuMEh"
   },
   "source": [
    "![MCX Banner](https://mcx.space/img/mcx18_banner.png)\n",
    "\n",
    "# » Getting Started with pmcx\n",
    "\n",
    "- MCX Website: https://mcx.space\n",
    "- License: GNU Public License V3 or later\n",
    "- URL: https://pypi.org/project/pmcx/\n",
    "- Github: https://github.com/fangq/mcx\n",
    "\n",
    "Monte Carlo eXtreme (MCX) is a fast photon transport simulation software for 3D heterogeneous turbid media. By taking advantage of the massively parallel threads and extremely low memory latency in a modern graphics processing unit (GPU), MCX is capable of performing Monte Carlo (MC) photon simulations at a blazing speed, typically hundreds to a thousand times faster than a fully optimized CPU-based MC implementation."
   ]
  },
  {
   "cell_type": "markdown",
   "metadata": {
    "id": "GX0JSvizv2H9"
   },
   "source": [
    "## Step 0: install necessary Python modules\n",
    "\n",
    "> Only need to run this once at the beginning\n",
    "\n",
    "\n",
    "The only required dependency for `pmcx` is `numpy`. Additional (and optional) modules can be installed, including\n",
    "- [`jdata`](https://pypi.org/project/jdata/), for saving simulations to human-readable JSON/[NeuroJSON](https://neurojson.org) files, also for importing MCX .jnii/.jdat/.jdt output files\n",
    "- [`bjdata`](https://pypi.org/project/bjdata/), for saving simulations to more compact binary JSON files, also for importing MCX .bnii/.jdb output files\n",
    "- [`matplotlib`](https://pypi.org/project/matplotlib/), for plotting and visualization of the data\n",
    "\n",
    "If you intend to install pmcx on your local computer (assuming you have an NVIDIA GPU), please first install `python` and run the below `pip` command in a command line window."
   ]
  },
  {
   "cell_type": "code",
   "execution_count": 15,
   "metadata": {
    "id": "mU_sMdR6rNh0"
   },
   "outputs": [],
   "source": [
    "# !pip install numpy pmcx jdata bjdata matplotlib"
   ]
  },
  {
   "cell_type": "markdown",
   "metadata": {
    "id": "3FuiSDH_w6Dh"
   },
   "source": [
    "## Step 1: Import modules\n",
    "\n",
    "---\n",
    "\n",
    "> Only need to run this once at the beginning\n"
   ]
  },
  {
   "cell_type": "code",
   "execution_count": 16,
   "metadata": {},
   "outputs": [],
   "source": [
    "import sys\n",
    "sys.path.insert(0, '/home/users/ivyyen/Project/mcx/src/build/')\n",
    "import _pmcx"
   ]
  },
  {
   "cell_type": "code",
   "execution_count": 7,
   "metadata": {
    "id": "BdyGGnVPr75P"
   },
   "outputs": [],
   "source": [
    "import numpy as np\n",
    "# import pmcx\n",
    "import jdata as jd\n",
    "from matplotlib import pyplot as plt\n",
    "\n",
    "# pmcx.__version__   # print imported pmcx version number"
   ]
  },
  {
   "cell_type": "markdown",
   "metadata": {
    "id": "oPiJ3kcF4MK2"
   },
   "source": [
    "## Step 2: Verify you have access to NVIDIA GPUs\n",
    "\n",
    "---\n",
    "\n",
    "If you run this on Google Colab, please go to menu **Edit\\Notebook Settings\\Hardware accelerator**, and select \"GPU\". By default, Colab does not enable GPU and the below command will fail."
   ]
  },
  {
   "cell_type": "code",
   "execution_count": 8,
   "metadata": {},
   "outputs": [
    {
     "data": {
      "text/plain": [
       "[{'name': 'GeForce GTX 980 Ti',\n",
       "  'id': 1,\n",
       "  'devcount': 1,\n",
       "  'major': 5,\n",
       "  'minor': 2,\n",
       "  'globalmem': 6378094592,\n",
       "  'constmem': 65536,\n",
       "  'sharedmem': 49152,\n",
       "  'regcount': 65536,\n",
       "  'clock': 1291000,\n",
       "  'sm': 22,\n",
       "  'core': 2816,\n",
       "  'autoblock': 64,\n",
       "  'autothread': 45056,\n",
       "  'maxgate': 0}]"
      ]
     },
     "execution_count": 8,
     "metadata": {},
     "output_type": "execute_result"
    }
   ],
   "source": [
    "_pmcx.gpuinfo()"
   ]
  },
  {
   "cell_type": "markdown",
   "metadata": {
    "id": "SPu7A3Mm4gBh"
   },
   "source": [
    "## Step 3: Define simulation (as a dictionary variable)\n",
    "\n",
    "---\n",
    "\n"
   ]
  },
  {
   "cell_type": "code",
   "execution_count": 10,
   "metadata": {
    "id": "lY6fw-SnsWxZ"
   },
   "outputs": [],
   "source": [
    "cfg = {\n",
    "       'nphoton': 1000000, \n",
    "       'vol':np.ones([60,60,60],dtype='uint8'), \n",
    "       'tstart':0,\n",
    "       'tend':5e-9,\n",
    "       'tstep':5e-9, \n",
    "       'srcpos': [30,30,0],\n",
    "       'srcdir':[0,0,1],\n",
    "       'prop':[[0,0,1,1],[0.005,1,0.01,1.37]]\n",
    "       }"
   ]
  },
  {
   "cell_type": "markdown",
   "metadata": {
    "id": "dAT-8UBA4t62"
   },
   "source": [
    "##Step 4: Run pmcx simulation\n",
    "\n",
    "---\n"
   ]
  },
  {
   "cell_type": "code",
   "execution_count": 12,
   "metadata": {
    "id": "fqo7qGqG4tHv"
   },
   "outputs": [
    {
     "name": "stdout",
     "output_type": "stream",
     "text": [
      "nphoton: 1e+06\n",
      "tstart: 0\n",
      "tstep: 5e-09\n",
      "tend: 5e-09\n",
      "srcpos: [30, 30, 0]\n",
      "srcdir: [0, 0, 1]\n"
     ]
    }
   ],
   "source": [
    "res = _pmcx.run(cfg)"
   ]
  },
  {
   "cell_type": "markdown",
   "metadata": {
    "id": "kSkaE1Uw40Xr"
   },
   "source": [
    "## Step 5: Visualize results\n",
    "\n",
    "---"
   ]
  },
  {
   "cell_type": "code",
   "execution_count": 14,
   "metadata": {
    "colab": {
     "base_uri": "https://localhost:8080/",
     "height": 268
    },
    "id": "7IxvdrdWtyMT",
    "outputId": "05b3e11e-3537-4535-df8b-b8b776afa997"
   },
   "outputs": [
    {
     "data": {
      "image/png": "[encoded data removed]",
      "text/plain": [
       "<Figure size 432x288 with 1 Axes>"
      ]
     },
     "metadata": {
      "needs_background": "light"
     },
     "output_type": "display_data"
    }
   ],
   "source": [
    "plt.imshow(np.log10(res['flux'][30,:, :]))\n",
    "plt.show()"
   ]
  },
  {
   "cell_type": "markdown",
   "metadata": {
    "id": "I7V8Gygw-8AM"
   },
   "source": [
    "# » Customize how to run pmcx"
   ]
  },
  {
   "cell_type": "markdown",
   "metadata": {
    "id": "9dRn-1oy_Erl"
   },
   "source": [
    "## Use positional parameters\n",
    "\n",
    "---\n",
    "\n",
    "You can call `pmcx.run` in a more compact way (as a one-liner) by directly passing on each setting as a \"positional parameter\""
   ]
  },
  {
   "cell_type": "code",
   "execution_count": null,
   "metadata": {
    "id": "qglKOlSE_Jz4"
   },
   "outputs": [],
   "source": [
    "res = pmcx.run(nphoton=1000000, vol=np.ones([60, 60, 60], dtype='uint8'), \n",
    "               tstart=0, tend=5e-9, tstep=5e-9, srcpos=[30,30,0], srcdir=[0,0,1],\n",
    "               prop=np.array([[0, 0, 1, 1], [0.005, 1, 0.01, 1.37]]))\n",
    "\n",
    "res['flux'].shape"
   ]
  },
  {
   "cell_type": "markdown",
   "metadata": {
    "id": "3raVltQ1_wMF"
   },
   "source": [
    "## Use itemized dictionary format\n",
    "\n",
    "---\n",
    "\n",
    "Alternatively, you can also be explicity and define each input field in separate lines. This provides better readability."
   ]
  },
  {
   "cell_type": "code",
   "execution_count": null,
   "metadata": {
    "id": "-A3ar2ne_7rF"
   },
   "outputs": [],
   "source": [
    "cfg={}\n",
    "cfg['nphoton']=1e7\n",
    "cfg['vol']=np.ones([60, 60, 60], dtype='uint8')\n",
    "cfg['vol'][20:40, 30:40, 20:30]=2\n",
    "cfg['tstart']=0\n",
    "cfg['tend']=5e-9\n",
    "cfg['tstep']=5e-9\n",
    "cfg['srcpos']=[30,30,0]\n",
    "cfg['srcdir']=[0,0,1]\n",
    "cfg['prop']=[[0, 0, 1, 1], [0.005, 1, 0.01, 1.37], [0.1, 10, 0.9, 1]]\n",
    "\n",
    "res=pmcx.run(cfg)\n",
    "\n",
    "res['stat']"
   ]
  },
  {
   "cell_type": "markdown",
   "metadata": {
    "id": "r85o-0ZJHRnq"
   },
   "source": [
    "# » Import and export"
   ]
  },
  {
   "cell_type": "markdown",
   "metadata": {
    "id": "hx9jSjo3CK9u"
   },
   "source": [
    "## Export data to human-readable JSON/NeuroJSON formats for easy sharing\n",
    "\n",
    "---\n",
    "The US NIH-funded NeuroJSON Project (https://neurojson.org), also developed and led by MCX's author Dr. Fang, is aimed at breaking the barriers for sharing and reusing scientific data between diverse software and programming environments (such as MATLAB, Python, web etc). The NeuroJSON project envisons that the key for making valuable scientific data long-lasting and easily reusable is **human-readability**, thus has adopted JSON and binary JSON as the primary universal format to store data files. JSON is not only directly human-readable, but also directly supported across almost every programming language and software."
   ]
  },
  {
   "cell_type": "markdown",
   "metadata": {
    "id": "z1xhSCuoFA3r"
   },
   "source": [
    "To read/write JSON/NeuroJSON encoded universal data files, one just need to install and import a tiny module called `jdata` (https://pypi.org/project/jdata/)"
   ]
  },
  {
   "cell_type": "code",
   "execution_count": null,
   "metadata": {
    "id": "CpZcE964CTzQ"
   },
   "outputs": [],
   "source": [
    "import jdata as jd"
   ]
  },
  {
   "cell_type": "markdown",
   "metadata": {
    "id": "9rdk1hE3FUM7"
   },
   "source": [
    "Once you imported `jdata`, you can then call the `jdata.encode()` function to serialize arbitrary Python data structures, including lists, dicts, numpy arrays etc, into easy-to-parse JSON-like formats. The binary data is losslessly stored in JSON based annotations.\n",
    "\n",
    "It is highly recommended to take advantage of the built-in data compression capability to save your data in a more compact format without losing precision. A compression codec can be pased by adding a key named `compression` in the 2nd parameter of `encode`. Supported compression methods include: `zlib`, `gzip`, `lzma`, `lz4` etc."
   ]
  },
  {
   "cell_type": "code",
   "execution_count": null,
   "metadata": {
    "id": "6snCnUoMCZJB"
   },
   "outputs": [],
   "source": [
    "jd.encode(res['flux'], {'compression':'zlib','base64':1})"
   ]
  },
  {
   "cell_type": "markdown",
   "metadata": {
    "id": "e29K7DBxGvnJ"
   },
   "source": [
    "Similarly, one can use `lzma` compression to achieve smaller output size at the costof longer compression time. One can compress any numpy array such as `cfg['vol']` to easy-to-exchange JSON data"
   ]
  },
  {
   "cell_type": "code",
   "execution_count": null,
   "metadata": {
    "colab": {
     "base_uri": "https://localhost:8080/"
    },
    "id": "g4NFlqiHGmM2",
    "outputId": "8199fe1e-7861-49bc-833c-197b6285ad06"
   },
   "outputs": [
    {
     "data": {
      "text/plain": [
       "{'_ArrayType_': 'uint8',\n",
       " '_ArraySize_': [60, 60, 60],\n",
       " '_ArrayZipType_': 'lzma',\n",
       " '_ArrayZipSize_': [1, 216000],\n",
       " '_ArrayZipData_': b'XQAAgAD//////////wAA7/v//6O3/0c+SBVyOWFRuJIo5qOGB/nu5B6C0y/FOjwBS7F+yYqKTS+jDdl/puOMIxFT4FkYxXWK4nf4tpR/DGrA3nRJZOLpXFOyBNj3RAyrXw1tRunlw3aIt5ZXp4XZZkuf//9alAAA'}"
      ]
     },
     "execution_count": 33,
     "metadata": {},
     "output_type": "execute_result"
    }
   ],
   "source": [
    "jd.encode(cfg['vol'], {'compression':'lzma','base64':1})"
   ]
  },
  {
   "cell_type": "markdown",
   "metadata": {
    "id": "BeJQxj4jIEg_"
   },
   "source": [
    "JSON/`jdata` encoded JSON-formatted data can be readily decoded to losslessly restore the original data. One can call `jdata.decode()` to achieve this."
   ]
  },
  {
   "cell_type": "code",
   "execution_count": null,
   "metadata": {
    "id": "so8F5PU_IRXz"
   },
   "outputs": [],
   "source": [
    "newflux = jd.decode(jd.encode(res['flux'], {'compression':'zlib'}))\n",
    "\n",
    "print([newflux.shape, newflux.dtype])"
   ]
  },
  {
   "cell_type": "markdown",
   "metadata": {
    "id": "of3C2OrRHLBV"
   },
   "source": [
    "## Save mcx output data to JSON/NeuroJSON files\n",
    "\n",
    "---"
   ]
  },
  {
   "cell_type": "code",
   "execution_count": null,
   "metadata": {
    "id": "4l9KiVfD43Aa"
   },
   "outputs": [],
   "source": [
    "jd.save(res['flux'], 'mcx_flux.json', {'compression':'zlib'})"
   ]
  },
  {
   "cell_type": "markdown",
   "metadata": {
    "id": "zO4kC-t26OVV"
   },
   "source": [
    "## Download .json file to local disk\n",
    "\n",
    "---"
   ]
  },
  {
   "cell_type": "code",
   "execution_count": null,
   "metadata": {
    "id": "CYBL-Hf55Kpy"
   },
   "outputs": [],
   "source": [
    "from google.colab import files\n",
    "files.download('mcx_flux.json')"
   ]
  },
  {
   "cell_type": "markdown",
   "metadata": {
    "id": "6Yx9hNng7I7h"
   },
   "source": [
    "# » Use detectors"
   ]
  },
  {
   "cell_type": "markdown",
   "metadata": {
    "id": "GfYd007cP51D"
   },
   "source": [
    "## Setup detectors and detection flags"
   ]
  },
  {
   "cell_type": "code",
   "execution_count": null,
   "metadata": {
    "colab": {
     "base_uri": "https://localhost:8080/"
    },
    "id": "NMAqz61S7Nx3",
    "outputId": "d0f19864-83c9-4e7b-f359-ba585719cdb7"
   },
   "outputs": [
    {
     "data": {
      "text/plain": [
       "dict_keys(['nphoton', 'vol', 'tstart', 'tend', 'tstep', 'srcpos', 'srcdir', 'prop', 'detpos', 'issavedet', 'issrcfrom0', 'savedetflag'])"
      ]
     },
     "execution_count": 33,
     "metadata": {},
     "output_type": "execute_result"
    }
   ],
   "source": [
    "cfg['detpos']=[[30,27,0,1], [30,25,0,1]]   # to detect photons, one must first define detectors\n",
    "cfg['issavedet']=1                         # cfg.issavedet must be set to 1 or True in order to save detected photons\n",
    "cfg['issrcfrom0']=1                        # set this flag to ensure src/det coordinates align with voxel space\n",
    "cfg.keys()"
   ]
  },
  {
   "cell_type": "markdown",
   "metadata": {
    "id": "dJ7LO-ixP8l5"
   },
   "source": [
    "## Run simulation, detected photons are stored in `res['detp']`"
   ]
  },
  {
   "cell_type": "code",
   "execution_count": null,
   "metadata": {
    "id": "bT-OArmNKBHw"
   },
   "outputs": [],
   "source": [
    "res=pmcx.run(cfg)"
   ]
  },
  {
   "cell_type": "markdown",
   "metadata": {
    "id": "ULL6n6huPvMH"
   },
   "source": [
    "## Display histogram of partial-paths\n",
    "\n",
    "---\n",
    "\n"
   ]
  },
  {
   "cell_type": "code",
   "execution_count": null,
   "metadata": {
    "colab": {
     "base_uri": "https://localhost:8080/",
     "height": 265
    },
    "id": "K2w3S9BdKBnS",
    "outputId": "55a1a7d3-28e9-4404-a442-bac19fc3bcd9"
   },
   "outputs": [
    {
     "data": {
      "image/png": "[encoded data removed]",
      "text/plain": [
       "<Figure size 432x288 with 1 Axes>"
      ]
     },
     "metadata": {
      "needs_background": "light"
     },
     "output_type": "display_data"
    }
   ],
   "source": [
    "plt.hist(res['detp'][1], bins=100, range=[0,200]);"
   ]
  },
  {
   "cell_type": "markdown",
   "metadata": {
    "id": "6RWYId8WQo14"
   },
   "source": [
    "## Use `savedetflag` to save multiple output data types\n",
    "\n",
    "---\n",
    "in the below example, we ask mcx to output detected photon specific data according to the letters presented in the `savedetflag` string:\n",
    "\n",
    "- `d`: detected photon ID (starting from 1), width: 1\n",
    "- `p`: partial path for each medium type, width: #media\n",
    "- `x`: detected photon existing position, width: 3\n",
    "\n",
    "other possible flags include\n",
    "- `s`: partial scattering count per medium, width: #media\n",
    "- `v`: existing direction vector, width: 3\n",
    "- `m`: momentum transfer per medium, width: #media\n",
    "- `w`: photon initial weight, width: 1"
   ]
  },
  {
   "cell_type": "code",
   "execution_count": null,
   "metadata": {
    "id": "PClnQkheOZUY"
   },
   "outputs": [],
   "source": [
    "cfg['savedetflag']='dpx'"
   ]
  },
  {
   "cell_type": "code",
   "execution_count": null,
   "metadata": {
    "id": "8j6dvd2LPj0v"
   },
   "outputs": [],
   "source": [
    "res=pmcx.run(cfg)\n",
    "\n",
    "res['detp'].shape"
   ]
  },
  {
   "cell_type": "markdown",
   "metadata": {
    "id": "dUsLGjGGUM1E"
   },
   "source": [
    "## Plot detected photon existing positions\n",
    "\n",
    "---\n",
    "\n"
   ]
  },
  {
   "cell_type": "code",
   "execution_count": null,
   "metadata": {
    "colab": {
     "base_uri": "https://localhost:8080/",
     "height": 265
    },
    "id": "POapUtwoQmWx",
    "outputId": "b5d62dc2-4f7b-4ea6-d2cd-028dc6727bf3"
   },
   "outputs": [
    {
     "data": {
      "image/png": "[encoded data removed]",
      "text/plain": [
       "<Figure size 432x288 with 1 Axes>"
      ]
     },
     "metadata": {
      "needs_background": "light"
     },
     "output_type": "display_data"
    }
   ],
   "source": [
    "# plot photon existing position for Det#1 in red\n",
    "plt.scatter(res['detp'][2][res['detp'][0]==1], res['detp'][3][res['detp'][0]==1], \n",
    "            marker='.',color='red');\n",
    "\n",
    "# plot photon existing position for Det#2 in blue\n",
    "plt.scatter(res['detp'][2][res['detp'][0]==2], res['detp'][3][res['detp'][0]==2], \n",
    "            marker='.',color='blue');\n",
    "plt.axis('equal');"
   ]
  },
  {
   "cell_type": "markdown",
   "metadata": {
    "id": "T3Ks52zvs70g"
   },
   "source": [
    "## Save both fluence and detected photon data to disk\n",
    "\n",
    "---\n",
    "\n"
   ]
  },
  {
   "cell_type": "code",
   "execution_count": null,
   "metadata": {
    "id": "UNjjTvk0stWa"
   },
   "outputs": [],
   "source": [
    "jd.save(res, 'mcx_flux_dept.json', {'compression':'zlib'})"
   ]
  },
  {
   "cell_type": "markdown",
   "metadata": {
    "id": "ZAav2LOPtHge"
   },
   "source": [
    "## Download output file\n",
    "\n",
    "---\n",
    "\n"
   ]
  },
  {
   "cell_type": "code",
   "execution_count": null,
   "metadata": {
    "id": "dbKqbo6wtK1U"
   },
   "outputs": [],
   "source": [
    "from google.colab import files\n",
    "files.download('mcx_flux_dept.json')"
   ]
  },
  {
   "cell_type": "markdown",
   "metadata": {
    "id": "sOwcFCxftUvD"
   },
   "source": [
    "# » Save diffuse reflectance"
   ]
  },
  {
   "cell_type": "markdown",
   "metadata": {
    "id": "a65jBLS9tdXq"
   },
   "source": [
    "## Padding volume by zeros to save diffuse reflectance\n",
    "\n",
    "---\n",
    "\n",
    "mcx can accumulate a photon's remaining weight upon exiting the domain surface. The accumulated distribution can be used to compute \"diffuse reflectance\" (`dref`). However, mcx only accumulates `dref` in 0-valued voxels (i.e. background).\n",
    "\n",
    "That means in order to save `dref` along any medium surface, one must pad a layer of zero voxels outside of this surface.\n",
    "\n",
    "In the below example, we set voxels in z=0 plane to be 0s, so we can capture photons escaping from z=1 plane.\n",
    "\n",
    "The saved \"diffuse reflectance\" are stored under the `dref` key of the output dictonary object."
   ]
  },
  {
   "cell_type": "code",
   "execution_count": null,
   "metadata": {
    "id": "-BCp-gJMtpyX"
   },
   "outputs": [],
   "source": [
    "cfg['vol'][:,:,0]=0\n",
    "cfg['issaveref']=1\n",
    "\n",
    "res=pmcx.run(cfg)\n",
    "\n",
    "res.keys()"
   ]
  },
  {
   "cell_type": "code",
   "execution_count": null,
   "metadata": {
    "id": "rnxygE64umkR"
   },
   "outputs": [],
   "source": [
    "plt.imshow(np.log10(res['dref'][:, :, 0]))\n",
    "plt.colorbar()\n",
    "plt.show()"
   ]
  },
  {
   "cell_type": "markdown",
   "metadata": {
    "id": "Vu13dAO4wUK1"
   },
   "source": [
    "# » Photon replay"
   ]
  },
  {
   "cell_type": "markdown",
   "metadata": {
    "id": "kO1ths515bm7"
   },
   "source": [
    "For details related to the \"photon replay\" algorithm, please check out our below paper:\n",
    "\n",
    "* Ruoyang Yao, Xavier Intes, Qianqian Fang*, [\"A direct approach to compute Jacobians for diffuse optical tomography using perturbation Monte Carlo-based photon 'replay',\"](https://www.osapublishing.org/boe/abstract.cfm?uri=boe-9-10-4588) Biomed. Optics Express 9(10), 4588-4603, (2018)\n"
   ]
  },
  {
   "cell_type": "markdown",
   "metadata": {
    "id": "rMYcvp2zwbnv"
   },
   "source": [
    "## Using *photon replay* to build Jacobians"
   ]
  },
  {
   "cell_type": "code",
   "execution_count": null,
   "metadata": {
    "id": "YKkvJA6dw25S"
   },
   "outputs": [],
   "source": [
    "# Step 1 - run baseline simulation to get detected photons (and their seeds) at detectors\n",
    "cfg={}\n",
    "cfg['nphoton']=1e7\n",
    "cfg['vol']=np.ones([60, 60, 60], dtype='uint8')\n",
    "cfg['vol'][20:40, 30:40, 20:30]=2\n",
    "cfg['tstart']=0\n",
    "cfg['tend']=5e-9\n",
    "cfg['tstep']=5e-9\n",
    "cfg['srcpos']=[30,30,0]\n",
    "cfg['srcdir']=[0,0,1]\n",
    "cfg['prop']=[[0, 0, 1, 1], [0.005, 1, 0.01, 1.37], [0.1, 10, 0.9, 1]]\n",
    "cfg['detpos']=[[30,20,0,1]]        # to detect photons, one must first define detectors\n",
    "cfg['issavedet']=1                 # cfg.issavedet must be set to 1 or True in order to save detected photons\n",
    "cfg['issrcfrom0']=1                # set this flag to ensure src/det coordinates align with voxel space\n",
    "cfg['issaveseed']=1   ##!important!# set this flag to store detected photon seed data\n",
    "\n",
    "# run baseline simulation, now seed data are stored in res['seeds']]\n",
    "res=pmcx.run(cfg)\n",
    "res.keys()"
   ]
  },
  {
   "cell_type": "code",
   "execution_count": null,
   "metadata": {
    "id": "RL30AahxxlnP"
   },
   "outputs": [],
   "source": [
    "# Step 2 - replay detected photon and output Jacobian\n",
    "cfg_replay=cfg;\n",
    "cfg_replay['seed']=res['seeds']        # one must define cfg['seed'] using the returned seeds\n",
    "cfg_replay['detphotons']=res['detp']   # one must define cfg['detphotons'] using the returned detp data\n",
    "cfg_replay['outputtype']='jacobian'    # tell mcx to output absorption (μ_a) Jacobian\n",
    "\n",
    "# run replay, if done properly, the exact the same set of photons will be \"redetected\"\n",
    "res2=pmcx.run(cfg_replay)\n",
    "res2.keys()\n",
    "print({'redetection':res2['seeds'].shape, 'initial_detection':res['seeds'].shape})"
   ]
  },
  {
   "cell_type": "code",
   "execution_count": 10,
   "metadata": {
    "colab": {
     "base_uri": "https://localhost:8080/",
     "height": 468
    },
    "id": "hNDTPCDIydZC",
    "outputId": "2c29e389-4ae0-4220-8550-6d7a0118eab5"
   },
   "outputs": [
    {
     "name": "stderr",
     "output_type": "stream",
     "text": [
      "<ipython-input-10-0c9b4b641cc8>:2: RuntimeWarning: divide by zero encountered in log10\n",
      "  plt.imshow(np.log10(res2['flux'][30,:, :]))\n"
     ]
    },
    {
     "data": {
      "image/png": "[encoded data removed]",
      "text/plain": [
       "<Figure size 640x480 with 2 Axes>"
      ]
     },
     "metadata": {},
     "output_type": "display_data"
    }
   ],
   "source": [
    "# plot μ_a Jacobian (sensitivity profile, or photon banana)\n",
    "plt.imshow(np.log10(res2['flux'][30,:, :]))\n",
    "plt.colorbar()\n",
    "plt.show()"
   ]
  },
  {
   "cell_type": "markdown",
   "metadata": {
    "id": "1zgZKJ1N1Fa3"
   },
   "source": [
    "# » Define domain by JSON based shape descriptors"
   ]
  },
  {
   "cell_type": "markdown",
   "metadata": {
    "id": "t470_SAB4Nyq"
   },
   "source": [
    "## Define domain by a series of shape constructs\n",
    "\n",
    "---\n"
   ]
  },
  {
   "cell_type": "code",
   "execution_count": null,
   "metadata": {
    "id": "F8Idr-uA1J5L"
   },
   "outputs": [],
   "source": [
    "shape=[]\n",
    "shape.append({'Grid':{'Tag':1, 'Size':[40,60,30]}})\n",
    "shape.append({'Sphere':{'Tag':2, 'O':[20,30,10], 'R':10}})\n",
    "\n",
    "cfg['shapes']=jd.show({'Shapes':shape}, {'string':True})\n",
    "\n",
    "cfg['prop']=[[0, 0, 1, 1], [0.005, 1, 0.01, 1.37], [0.1, 10, 0.9, 1]]"
   ]
  },
  {
   "cell_type": "code",
   "execution_count": null,
   "metadata": {
    "colab": {
     "base_uri": "https://localhost:8080/",
     "height": 36
    },
    "id": "j8L27Jgb4Iyy",
    "outputId": "200b0cc4-4168-49d1-dc3d-d9c8a8d4563d"
   },
   "outputs": [
    {
     "data": {
      "application/vnd.google.colaboratory.intrinsic+json": {
       "type": "string"
      },
      "text/plain": [
       "'{\"Shapes\": [{\"Grid\": {\"Tag\": 1, \"Size\": [40, 60, 30]}}, {\"Sphere\": {\"Tag\": 2, \"O\": [20, 30, 10], \"R\": 10}}]}'"
      ]
     },
     "execution_count": 31,
     "metadata": {},
     "output_type": "execute_result"
    }
   ],
   "source": [
    "cfg['shapes']"
   ]
  },
  {
   "cell_type": "code",
   "execution_count": null,
   "metadata": {
    "id": "kWTkg2xd2CEI"
   },
   "outputs": [],
   "source": [
    "res=pmcx.run(cfg)"
   ]
  },
  {
   "cell_type": "code",
   "execution_count": null,
   "metadata": {
    "id": "1vR1ST6W2or4"
   },
   "outputs": [],
   "source": [
    "plt.imshow(np.log10(res['flux'][:, :, 3]))\n",
    "plt.show()"
   ]
  }
 ],
 "metadata": {
  "accelerator": "GPU",
  "colab": {
   "provenance": [],
   "toc_visible": true
  },
  "gpuClass": "standard",
  "kernelspec": {
   "display_name": "Python 3 (ipykernel)",
   "language": "python",
   "name": "python3"
  },
  "language_info": {
   "codemirror_mode": {
    "name": "ipython",
    "version": 3
   },
   "file_extension": ".py",
   "mimetype": "text/x-python",
   "name": "python",
   "nbconvert_exporter": "python",
   "pygments_lexer": "ipython3",
   "version": "3.11.3"
  }
 },
 "nbformat": 4,
 "nbformat_minor": 4
}
